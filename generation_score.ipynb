{
 "cells": [
  {
   "cell_type": "code",
   "execution_count": 80,
   "id": "e7adc459",
   "metadata": {},
   "outputs": [],
   "source": [
    "from sentence_transformers import SentenceTransformer\n",
    "from annoy import AnnoyIndex\n",
    "from sklearn.decomposition import PCA\n",
    "from sklearn.preprocessing import StandardScaler\n",
    "from sklearn.pipeline import Pipeline\n",
    "from transformers import AutoModelForCausalLM, AutoTokenizer\n",
    "import numpy as np\n",
    "import torch\n",
    "import csv\n",
    "from bert_score import score\n",
    "import clickhouse_driver\n"
   ]
  },
  {
   "cell_type": "markdown",
   "id": "56b66798",
   "metadata": {},
   "source": [
    "# Данные"
   ]
  },
  {
   "cell_type": "code",
   "execution_count": 81,
   "id": "31c3a193",
   "metadata": {},
   "outputs": [],
   "source": [
    "questions = [\n",
    "    \"Что такое курс рубля и почему он меняется?\",\n",
    "    \"Зачем Банк России перешел к режиму плавающего курса?\",\n",
    "    \"Проводит ли Банк России операции с целью укрепить или ослабить рубль?\"\n",
    "]"
   ]
  },
  {
   "cell_type": "code",
   "execution_count": 82,
   "id": "950d9fcd",
   "metadata": {},
   "outputs": [],
   "source": [
    "import pandas as pd\n",
    "test_data= pd.read_csv(\"test.csv\") \n",
    "test_data[\"answer\"] = test_data[\"answer\"].str.replace(\"\\n\", \"\")"
   ]
  },
  {
   "cell_type": "code",
   "execution_count": 83,
   "id": "cf950b7d",
   "metadata": {},
   "outputs": [
    {
     "data": {
      "text/plain": [
       "'    Курс рубля к иностранной валюте - это стоимость одного рубля,     выраженная в единицах иностранной валюты.    Курс рубля меняется под влиянием спроса и предложения на     иностранную валюту на валютном рынке.    На курс рубля могут влиять:    - Объемы внешней торговли    - Импортные и экспортные цены    - Уровни инфляции и процентных ставок    - Темпы экономического роста    - Периоды нестабильности    - Изменения денежно-кредитной политики    '"
      ]
     },
     "execution_count": 83,
     "metadata": {},
     "output_type": "execute_result"
    }
   ],
   "source": [
    "test_data['answer'][0]"
   ]
  },
  {
   "cell_type": "markdown",
   "id": "b25e005c",
   "metadata": {},
   "source": [
    "# Пайплайн PCA для понижения размерности, 768 - слишком много"
   ]
  },
  {
   "cell_type": "code",
   "execution_count": 84,
   "id": "e073512b",
   "metadata": {},
   "outputs": [],
   "source": [
    "pca = Pipeline(steps=[\n",
    "    ('mean', StandardScaler(with_mean=True, with_std=False)),\n",
    "    ('pca', PCA(n_components=3, random_state=42)),\n",
    "    ('std', StandardScaler(with_mean=True, with_std=True))\n",
    "])"
   ]
  },
  {
   "cell_type": "markdown",
   "id": "237ef5b5",
   "metadata": {},
   "source": [
    "# ClickHouse"
   ]
  },
  {
   "cell_type": "code",
   "execution_count": 21,
   "id": "a32f0d84",
   "metadata": {},
   "outputs": [
    {
     "data": {
      "text/plain": [
       "[(0,\n",
       "  [1.4124195575714111, -0.07120827585458755, -1250316.75],\n",
       "  'https://www.cbr.ru/about_br/publ/ddkp/'),\n",
       " (1,\n",
       "  [-0.6445415616035461, 1.258795976638794, -7689503.0],\n",
       "  'https://www.cbr.ru/dkp/exchange_rate/'),\n",
       " (2,\n",
       "  [-0.767877995967865, -1.1875869035720825, -6609879.0],\n",
       "  'https://cbr.ru/oper_br/o_a/currency/')]"
      ]
     },
     "execution_count": 21,
     "metadata": {},
     "output_type": "execute_result"
    }
   ],
   "source": [
    "# Вывод существующей таблицы\n",
    "client = clickhouse_driver.Client(host='localhost')\n",
    "client.execute(\"SELECT * FROM embeddings\")"
   ]
  },
  {
   "cell_type": "markdown",
   "id": "267b5312",
   "metadata": {},
   "source": [
    "# Загружаем языковую модель и токенизатор"
   ]
  },
  {
   "cell_type": "code",
   "execution_count": 23,
   "id": "564de4a8",
   "metadata": {},
   "outputs": [],
   "source": [
    "llm_dirname = '../nsu-ai/team_code/models/llm'\n"
   ]
  },
  {
   "cell_type": "code",
   "execution_count": 24,
   "id": "32c1d8d9",
   "metadata": {},
   "outputs": [
    {
     "data": {
      "application/vnd.jupyter.widget-view+json": {
       "model_id": "569e68ceab3440e0a0b785a249065715",
       "version_major": 2,
       "version_minor": 0
      },
      "text/plain": [
       "Loading checkpoint shards:   0%|          | 0/2 [00:00<?, ?it/s]"
      ]
     },
     "metadata": {},
     "output_type": "display_data"
    }
   ],
   "source": [
    "llm_model = AutoModelForCausalLM.from_pretrained(llm_dirname, torch_dtype=torch.float16, device_map={\"\":0}) # device_map требует установки Accelerate\n",
    "tokenizer = AutoTokenizer.from_pretrained(llm_dirname)"
   ]
  },
  {
   "cell_type": "markdown",
   "id": "5c428e40",
   "metadata": {},
   "source": [
    "# Question"
   ]
  },
  {
   "cell_type": "markdown",
   "id": "c2debe2d",
   "metadata": {},
   "source": [
    "# Методы для получения индекса наиболее подходящего документа по запросу (можно переделать на несколько индексов (размер контекста позволяет)"
   ]
  },
  {
   "cell_type": "code",
   "execution_count": 49,
   "id": "113878f1",
   "metadata": {},
   "outputs": [],
   "source": [
    "def get_closest_document_idx(query: list) -> int:\n",
    "    embedding = model.encode(query)\n",
    "    pca_embedding = pca.transform(embedding)\n",
    "    pca_embedding = np.squeeze(pca_embedding)\n",
    "    query_vector = pca_embedding.tolist()\n",
    "    results = client.execute(\"\"\"\n",
    "    SELECT id, embedding, link\n",
    "    FROM embeddings\n",
    "    ORDER BY L2Distance(embedding, {}) ASC\n",
    "    LIMIT 1\n",
    "    \"\"\".format(query_vector))\n",
    "    \n",
    "    return results[0][0]\n",
    "    "
   ]
  },
  {
   "cell_type": "code",
   "execution_count": 74,
   "id": "84cef9a6",
   "metadata": {},
   "outputs": [],
   "source": [
    "def get_completion(query: str, model, tokenizer, documents=test_data, with_link=False) -> str:\n",
    "    device = \"cuda:0\"\n",
    "    document_idx = get_closest_document_idx([query])\n",
    "    found_text = documents['answer'][document_idx]\n",
    "    prompt_template = f\"\"\"[INST]Ты полезный русскоязычный помощник банка россии, который вежливо отвечает на вопросы. Ты знаешь что: {found_text} Вопрос: {query} Отвечай только то, в чем уверен. [/INST]\n",
    "    \"\"\"\n",
    "    prompt = prompt_template.format(query=query)\n",
    "    \n",
    "\n",
    "    encodeds = tokenizer(prompt, return_tensors=\"pt\", add_special_tokens=True)\n",
    "\n",
    "    model_inputs = encodeds.to(device)\n",
    "\n",
    "    generated_ids = model.generate(**model_inputs, max_new_tokens=500)\n",
    "    decoded = tokenizer.batch_decode(generated_ids, skip_special_tokens=True)\n",
    "    if with_link:\n",
    "        return (decoded[0] + ' Ответ основан на ' + documents['link'][document_idx], len(prompt))\n",
    "    return (decoded[0], len(prompt))\n"
   ]
  },
  {
   "cell_type": "markdown",
   "id": "683fba78",
   "metadata": {},
   "source": [
    "# Тест"
   ]
  },
  {
   "cell_type": "code",
   "execution_count": 79,
   "id": "f4b13474",
   "metadata": {},
   "outputs": [
    {
     "name": "stderr",
     "output_type": "stream",
     "text": [
      "Setting `pad_token_id` to `eos_token_id`:2 for open-end generation.\n"
     ]
    },
    {
     "data": {
      "text/plain": [
       "'Курс рубля к иностранной валюте - это стоимость одного рубля, выраженная в единицах иностранной валюты. Ответ основан на https://www.cbr.ru/about_br/publ/ddkp/'"
      ]
     },
     "execution_count": 79,
     "metadata": {},
     "output_type": "execute_result"
    }
   ],
   "source": [
    "result, l = get_completion(query='Что такое курс рубля к иностранной валюте?', model=llm_model, tokenizer=tokenizer, documents=test_data, with_link=True)\n",
    "result[l+1:]"
   ]
  },
  {
   "cell_type": "markdown",
   "id": "f5515073",
   "metadata": {},
   "source": [
    "# Подсчет BERT F1 Score - https://github.com/Tiiiger/bert_score/"
   ]
  },
  {
   "cell_type": "code",
   "execution_count": 75,
   "id": "c36ac807",
   "metadata": {},
   "outputs": [],
   "source": [
    "refs = test_data['answer'].values.tolist()"
   ]
  },
  {
   "cell_type": "code",
   "execution_count": 76,
   "id": "9ed5bd22",
   "metadata": {},
   "outputs": [
    {
     "name": "stderr",
     "output_type": "stream",
     "text": [
      "Setting `pad_token_id` to `eos_token_id`:2 for open-end generation.\n",
      "Setting `pad_token_id` to `eos_token_id`:2 for open-end generation.\n",
      "Setting `pad_token_id` to `eos_token_id`:2 for open-end generation.\n"
     ]
    }
   ],
   "source": [
    "answers = []\n",
    "for q in questions:\n",
    "    result, l = get_completion(query=q, model=llm_model, tokenizer=tokenizer, documents=test_data)\n",
    "    answers.append(' '.join(result[l+1:].split()).strip())"
   ]
  },
  {
   "cell_type": "code",
   "execution_count": 77,
   "id": "0f914e01",
   "metadata": {},
   "outputs": [
    {
     "name": "stderr",
     "output_type": "stream",
     "text": [
      "Some weights of RobertaModel were not initialized from the model checkpoint at roberta-large and are newly initialized: ['roberta.pooler.dense.bias', 'roberta.pooler.dense.weight']\n",
      "You should probably TRAIN this model on a down-stream task to be able to use it for predictions and inference.\n"
     ]
    },
    {
     "name": "stdout",
     "output_type": "stream",
     "text": [
      "calculating scores...\n",
      "computing bert embedding.\n"
     ]
    },
    {
     "data": {
      "application/vnd.jupyter.widget-view+json": {
       "model_id": "6e58c6b7a1974d02b530874535f933e7",
       "version_major": 2,
       "version_minor": 0
      },
      "text/plain": [
       "  0%|          | 0/1 [00:00<?, ?it/s]"
      ]
     },
     "metadata": {},
     "output_type": "display_data"
    },
    {
     "name": "stdout",
     "output_type": "stream",
     "text": [
      "computing greedy matching.\n"
     ]
    },
    {
     "data": {
      "application/vnd.jupyter.widget-view+json": {
       "model_id": "a1719f28e7bb465d9ba3499efdb896c5",
       "version_major": 2,
       "version_minor": 0
      },
      "text/plain": [
       "  0%|          | 0/1 [00:00<?, ?it/s]"
      ]
     },
     "metadata": {},
     "output_type": "display_data"
    },
    {
     "name": "stdout",
     "output_type": "stream",
     "text": [
      "done in 0.16 seconds, 19.32 sentences/sec\n"
     ]
    }
   ],
   "source": [
    "P, R, F1 = score(answers, refs, lang='en', verbose=True) # Precision, Recall, F1"
   ]
  },
  {
   "cell_type": "code",
   "execution_count": 78,
   "id": "a525cd21",
   "metadata": {},
   "outputs": [
    {
     "name": "stdout",
     "output_type": "stream",
     "text": [
      "На подготовленных вопросах, усредненный BERT F1 score:  tensor(0.9388)\n"
     ]
    }
   ],
   "source": [
    "print('На подготовленных вопросах, усредненный BERT F1 score: ', F1.mean())"
   ]
  },
  {
   "cell_type": "code",
   "execution_count": null,
   "id": "8df3feb4",
   "metadata": {},
   "outputs": [],
   "source": []
  }
 ],
 "metadata": {
  "kernelspec": {
   "display_name": "Python 3 (ipykernel)",
   "language": "python",
   "name": "python3"
  },
  "language_info": {
   "codemirror_mode": {
    "name": "ipython",
    "version": 3
   },
   "file_extension": ".py",
   "mimetype": "text/x-python",
   "name": "python",
   "nbconvert_exporter": "python",
   "pygments_lexer": "ipython3",
   "version": "3.8.10"
  }
 },
 "nbformat": 4,
 "nbformat_minor": 5
}
