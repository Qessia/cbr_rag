{
 "cells": [
  {
   "cell_type": "code",
   "execution_count": 2,
   "id": "66c35ecf",
   "metadata": {},
   "outputs": [],
   "source": [
    "from sentence_transformers import SentenceTransformer\n",
    "from annoy import AnnoyIndex\n",
    "from sklearn.decomposition import PCA\n",
    "from sklearn.preprocessing import StandardScaler\n",
    "from sklearn.pipeline import Pipeline\n",
    "from transformers import AutoModelForCausalLM, AutoTokenizer\n",
    "import numpy as np\n",
    "import torch\n",
    "\n",
    "import csv"
   ]
  },
  {
   "cell_type": "markdown",
   "id": "6c565cd4",
   "metadata": {},
   "source": [
    "# sentences"
   ]
  },
  {
   "cell_type": "code",
   "execution_count": 3,
   "id": "34147441",
   "metadata": {},
   "outputs": [],
   "source": [
    "questions = [\n",
    "    \"Что такое курс рубля и почему он меняется?\",\n",
    "    \"Зачем Банк России перешел к режиму плавающего курса?\",\n",
    "    \"Проводит ли Банк России операции с целью укрепить или ослабить рубль?\"\n",
    "]\n",
    "\n",
    "answers = [\n",
    "    \"\"\"\n",
    "    Курс рубля к иностранной валюте - это стоимость одного рубля, \n",
    "    выраженная в единицах иностранной валюты.\n",
    "    Курс рубля меняется под влиянием спроса и предложения на \n",
    "    иностранную валюту на валютном рынке.\n",
    "\n",
    "    На курс рубля могут влиять:\n",
    "    - Объемы внешней торговли\n",
    "    - Импортные и экспортные цены\n",
    "    - Уровни инфляции и процентных ставок\n",
    "    - Темпы экономического роста\n",
    "    - Периоды нестабильности\n",
    "    - Изменения денежно-кредитной политики\n",
    "    \"\"\",\n",
    "    \"\"\"\n",
    "    Банк России перешел к режиму плавающего курса в 2014 году.\n",
    "    Плавающий курс позволяет:\n",
    "    - Проводить самостоятельную денежно-кредитную политику\n",
    "    - Снижать инфляцию\n",
    "    - Экономике подстраиваться под меняющиеся внешние условия\n",
    "    \"\"\",\n",
    "    \"\"\"\n",
    "    В обычных условиях Банк России не вмешивается в курс рубля.\n",
    "    Банк России может проводить операции на валютном рынке:\n",
    "    - Для поддержания финансовой стабильности\n",
    "    - Для пополнения международных резервов\n",
    "    - В 2014 году Банк России проводил интервенции для поддержки рубля\n",
    "    \"\"\"\n",
    "]\n",
    "\n",
    "\n",
    "links = [\n",
    "    \"https://www.cbr.ru/about_br/publ/ddkp/\",\n",
    "    \"https://www.cbr.ru/dkp/exchange_rate/\",\n",
    "    \"https://cbr.ru/oper_br/o_a/currency/\"\n",
    "]\n",
    "\n",
    "\n",
    "with open(\"test.csv\", \"w\", newline=\"\") as csvfile:\n",
    "    writer = csv.writer(csvfile)\n",
    "    writer.writerow([\"answer\", \"link\"])\n",
    "    for answer, link in zip(answers, links):\n",
    "        writer.writerow([answer, link])"
   ]
  },
  {
   "cell_type": "code",
   "execution_count": 4,
   "id": "e2e689d5",
   "metadata": {},
   "outputs": [],
   "source": [
    "import pandas as pd\n",
    "test_data= pd.read_csv(\"test.csv\") \n",
    "test_data[\"answer\"] = test_data[\"answer\"].str.replace(\"\\n\", \"\")"
   ]
  },
  {
   "cell_type": "code",
   "execution_count": 5,
   "id": "5b5b0515",
   "metadata": {},
   "outputs": [
    {
     "data": {
      "text/plain": [
       "'    Курс рубля к иностранной валюте - это стоимость одного рубля,     выраженная в единицах иностранной валюты.    Курс рубля меняется под влиянием спроса и предложения на     иностранную валюту на валютном рынке.    На курс рубля могут влиять:    - Объемы внешней торговли    - Импортные и экспортные цены    - Уровни инфляции и процентных ставок    - Темпы экономического роста    - Периоды нестабильности    - Изменения денежно-кредитной политики    '"
      ]
     },
     "execution_count": 5,
     "metadata": {},
     "output_type": "execute_result"
    }
   ],
   "source": [
    "test_data['answer'][0]"
   ]
  },
  {
   "cell_type": "code",
   "execution_count": 6,
   "id": "f65d2829",
   "metadata": {},
   "outputs": [
    {
     "name": "stdout",
     "output_type": "stream",
     "text": [
      "[2024-03-13 00:06:12,072] [INFO] [real_accelerator.py:161:get_accelerator] Setting ds_accelerator to cuda (auto detect)\n"
     ]
    },
    {
     "name": "stderr",
     "output_type": "stream",
     "text": [
      "2024-03-13 00:06:12.585590: I tensorflow/core/platform/cpu_feature_guard.cc:182] This TensorFlow binary is optimized to use available CPU instructions in performance-critical operations.\n",
      "To enable the following instructions: AVX2 AVX512F FMA, in other operations, rebuild TensorFlow with the appropriate compiler flags.\n"
     ]
    },
    {
     "name": "stdout",
     "output_type": "stream",
     "text": [
      "[[ 0.01131858 -0.16646416 -0.01336718 ... -0.02108256  0.02286252\n",
      "   0.03454603]\n",
      " [ 0.03172838 -0.17987302 -0.0171023  ...  0.01832076 -0.07802641\n",
      "   0.04500178]\n",
      " [ 0.1076953  -0.19871438 -0.01545429 ...  0.04401986 -0.05108446\n",
      "   0.04408288]]\n"
     ]
    }
   ],
   "source": [
    "model = SentenceTransformer('sentence-transformers/paraphrase-multilingual-mpnet-base-v2')\n",
    "model = model.to('cuda')\n",
    "embeddings = model.encode(test_data['answer'])\n",
    "print(embeddings)"
   ]
  },
  {
   "cell_type": "code",
   "execution_count": 7,
   "id": "425bb5dc",
   "metadata": {},
   "outputs": [
    {
     "data": {
      "text/plain": [
       "(3, 768)"
      ]
     },
     "execution_count": 7,
     "metadata": {},
     "output_type": "execute_result"
    }
   ],
   "source": [
    "embeddings.shape"
   ]
  },
  {
   "cell_type": "code",
   "execution_count": 8,
   "id": "7aeef954",
   "metadata": {},
   "outputs": [],
   "source": [
    "# text_vectors = np.vstack(embeddings)\n",
    "# text_vectors"
   ]
  },
  {
   "cell_type": "markdown",
   "id": "f71f2e79",
   "metadata": {},
   "source": [
    "# Понижение размерности с помощью PCA, пока до 3 компонентов на тест, лучше до ~300, когда будет большая база"
   ]
  },
  {
   "cell_type": "code",
   "execution_count": 9,
   "id": "804f7bc5",
   "metadata": {},
   "outputs": [
    {
     "data": {
      "text/html": [
       "<style>#sk-container-id-1 {color: black;background-color: white;}#sk-container-id-1 pre{padding: 0;}#sk-container-id-1 div.sk-toggleable {background-color: white;}#sk-container-id-1 label.sk-toggleable__label {cursor: pointer;display: block;width: 100%;margin-bottom: 0;padding: 0.3em;box-sizing: border-box;text-align: center;}#sk-container-id-1 label.sk-toggleable__label-arrow:before {content: \"▸\";float: left;margin-right: 0.25em;color: #696969;}#sk-container-id-1 label.sk-toggleable__label-arrow:hover:before {color: black;}#sk-container-id-1 div.sk-estimator:hover label.sk-toggleable__label-arrow:before {color: black;}#sk-container-id-1 div.sk-toggleable__content {max-height: 0;max-width: 0;overflow: hidden;text-align: left;background-color: #f0f8ff;}#sk-container-id-1 div.sk-toggleable__content pre {margin: 0.2em;color: black;border-radius: 0.25em;background-color: #f0f8ff;}#sk-container-id-1 input.sk-toggleable__control:checked~div.sk-toggleable__content {max-height: 200px;max-width: 100%;overflow: auto;}#sk-container-id-1 input.sk-toggleable__control:checked~label.sk-toggleable__label-arrow:before {content: \"▾\";}#sk-container-id-1 div.sk-estimator input.sk-toggleable__control:checked~label.sk-toggleable__label {background-color: #d4ebff;}#sk-container-id-1 div.sk-label input.sk-toggleable__control:checked~label.sk-toggleable__label {background-color: #d4ebff;}#sk-container-id-1 input.sk-hidden--visually {border: 0;clip: rect(1px 1px 1px 1px);clip: rect(1px, 1px, 1px, 1px);height: 1px;margin: -1px;overflow: hidden;padding: 0;position: absolute;width: 1px;}#sk-container-id-1 div.sk-estimator {font-family: monospace;background-color: #f0f8ff;border: 1px dotted black;border-radius: 0.25em;box-sizing: border-box;margin-bottom: 0.5em;}#sk-container-id-1 div.sk-estimator:hover {background-color: #d4ebff;}#sk-container-id-1 div.sk-parallel-item::after {content: \"\";width: 100%;border-bottom: 1px solid gray;flex-grow: 1;}#sk-container-id-1 div.sk-label:hover label.sk-toggleable__label {background-color: #d4ebff;}#sk-container-id-1 div.sk-serial::before {content: \"\";position: absolute;border-left: 1px solid gray;box-sizing: border-box;top: 0;bottom: 0;left: 50%;z-index: 0;}#sk-container-id-1 div.sk-serial {display: flex;flex-direction: column;align-items: center;background-color: white;padding-right: 0.2em;padding-left: 0.2em;position: relative;}#sk-container-id-1 div.sk-item {position: relative;z-index: 1;}#sk-container-id-1 div.sk-parallel {display: flex;align-items: stretch;justify-content: center;background-color: white;position: relative;}#sk-container-id-1 div.sk-item::before, #sk-container-id-1 div.sk-parallel-item::before {content: \"\";position: absolute;border-left: 1px solid gray;box-sizing: border-box;top: 0;bottom: 0;left: 50%;z-index: -1;}#sk-container-id-1 div.sk-parallel-item {display: flex;flex-direction: column;z-index: 1;position: relative;background-color: white;}#sk-container-id-1 div.sk-parallel-item:first-child::after {align-self: flex-end;width: 50%;}#sk-container-id-1 div.sk-parallel-item:last-child::after {align-self: flex-start;width: 50%;}#sk-container-id-1 div.sk-parallel-item:only-child::after {width: 0;}#sk-container-id-1 div.sk-dashed-wrapped {border: 1px dashed gray;margin: 0 0.4em 0.5em 0.4em;box-sizing: border-box;padding-bottom: 0.4em;background-color: white;}#sk-container-id-1 div.sk-label label {font-family: monospace;font-weight: bold;display: inline-block;line-height: 1.2em;}#sk-container-id-1 div.sk-label-container {text-align: center;}#sk-container-id-1 div.sk-container {/* jupyter's `normalize.less` sets `[hidden] { display: none; }` but bootstrap.min.css set `[hidden] { display: none !important; }` so we also need the `!important` here to be able to override the default hidden behavior on the sphinx rendered scikit-learn.org. See: https://github.com/scikit-learn/scikit-learn/issues/21755 */display: inline-block !important;position: relative;}#sk-container-id-1 div.sk-text-repr-fallback {display: none;}</style><div id=\"sk-container-id-1\" class=\"sk-top-container\"><div class=\"sk-text-repr-fallback\"><pre>Pipeline(steps=[(&#x27;mean&#x27;, StandardScaler(with_std=False)),\n",
       "                (&#x27;pca&#x27;, PCA(n_components=3, random_state=42)),\n",
       "                (&#x27;std&#x27;, StandardScaler())])</pre><b>In a Jupyter environment, please rerun this cell to show the HTML representation or trust the notebook. <br />On GitHub, the HTML representation is unable to render, please try loading this page with nbviewer.org.</b></div><div class=\"sk-container\" hidden><div class=\"sk-item sk-dashed-wrapped\"><div class=\"sk-label-container\"><div class=\"sk-label sk-toggleable\"><input class=\"sk-toggleable__control sk-hidden--visually\" id=\"sk-estimator-id-1\" type=\"checkbox\" ><label for=\"sk-estimator-id-1\" class=\"sk-toggleable__label sk-toggleable__label-arrow\">Pipeline</label><div class=\"sk-toggleable__content\"><pre>Pipeline(steps=[(&#x27;mean&#x27;, StandardScaler(with_std=False)),\n",
       "                (&#x27;pca&#x27;, PCA(n_components=3, random_state=42)),\n",
       "                (&#x27;std&#x27;, StandardScaler())])</pre></div></div></div><div class=\"sk-serial\"><div class=\"sk-item\"><div class=\"sk-estimator sk-toggleable\"><input class=\"sk-toggleable__control sk-hidden--visually\" id=\"sk-estimator-id-2\" type=\"checkbox\" ><label for=\"sk-estimator-id-2\" class=\"sk-toggleable__label sk-toggleable__label-arrow\">StandardScaler</label><div class=\"sk-toggleable__content\"><pre>StandardScaler(with_std=False)</pre></div></div></div><div class=\"sk-item\"><div class=\"sk-estimator sk-toggleable\"><input class=\"sk-toggleable__control sk-hidden--visually\" id=\"sk-estimator-id-3\" type=\"checkbox\" ><label for=\"sk-estimator-id-3\" class=\"sk-toggleable__label sk-toggleable__label-arrow\">PCA</label><div class=\"sk-toggleable__content\"><pre>PCA(n_components=3, random_state=42)</pre></div></div></div><div class=\"sk-item\"><div class=\"sk-estimator sk-toggleable\"><input class=\"sk-toggleable__control sk-hidden--visually\" id=\"sk-estimator-id-4\" type=\"checkbox\" ><label for=\"sk-estimator-id-4\" class=\"sk-toggleable__label sk-toggleable__label-arrow\">StandardScaler</label><div class=\"sk-toggleable__content\"><pre>StandardScaler()</pre></div></div></div></div></div></div></div>"
      ],
      "text/plain": [
       "Pipeline(steps=[('mean', StandardScaler(with_std=False)),\n",
       "                ('pca', PCA(n_components=3, random_state=42)),\n",
       "                ('std', StandardScaler())])"
      ]
     },
     "execution_count": 9,
     "metadata": {},
     "output_type": "execute_result"
    }
   ],
   "source": [
    "pca = Pipeline(steps=[\n",
    "    ('mean', StandardScaler(with_mean=True, with_std=False)),\n",
    "    ('pca', PCA(n_components=3, random_state=42)),\n",
    "    ('std', StandardScaler(with_mean=True, with_std=True))\n",
    "])\n",
    "pca.fit(embeddings)"
   ]
  },
  {
   "cell_type": "code",
   "execution_count": 10,
   "id": "93ee2ff4",
   "metadata": {},
   "outputs": [
    {
     "data": {
      "text/plain": [
       "(3, 3)"
      ]
     },
     "execution_count": 10,
     "metadata": {},
     "output_type": "execute_result"
    }
   ],
   "source": [
    "text_vectors = pca.transform(embeddings)\n",
    "text_vectors.shape"
   ]
  },
  {
   "cell_type": "code",
   "execution_count": 11,
   "id": "0965bd0d",
   "metadata": {},
   "outputs": [
    {
     "data": {
      "text/plain": [
       "array([[ 1.4124196e+00, -7.1208276e-02, -1.2503168e+06],\n",
       "       [-6.4454156e-01,  1.2587960e+00, -7.6895030e+06],\n",
       "       [-7.6787800e-01, -1.1875869e+00, -6.6098790e+06]], dtype=float32)"
      ]
     },
     "execution_count": 11,
     "metadata": {},
     "output_type": "execute_result"
    }
   ],
   "source": [
    "text_vectors"
   ]
  },
  {
   "cell_type": "markdown",
   "id": "2eba7e16",
   "metadata": {},
   "source": [
    "# ClickHouse"
   ]
  },
  {
   "cell_type": "code",
   "execution_count": 10,
   "id": "b8651e7c",
   "metadata": {},
   "outputs": [
    {
     "name": "stderr",
     "output_type": "stream",
     "text": [
      "huggingface/tokenizers: The current process just got forked, after parallelism has already been used. Disabling parallelism to avoid deadlocks...\n",
      "To disable this warning, you can either:\n",
      "\t- Avoid using `tokenizers` before the fork if possible\n",
      "\t- Explicitly set the environment variable TOKENIZERS_PARALLELISM=(true | false)\n"
     ]
    },
    {
     "name": "stdout",
     "output_type": "stream",
     "text": [
      "Looking in indexes: https://pypi.org/simple, https://pypi.ngc.nvidia.com\n",
      "Requirement already satisfied: clickhouse_driver in /usr/local/lib/python3.8/dist-packages (0.2.7)\n",
      "Requirement already satisfied: pytz in /usr/local/lib/python3.8/dist-packages (from clickhouse_driver) (2022.6)\n",
      "Requirement already satisfied: tzlocal in /usr/local/lib/python3.8/dist-packages (from clickhouse_driver) (5.2)\n",
      "Requirement already satisfied: backports.zoneinfo in /usr/local/lib/python3.8/dist-packages (from tzlocal->clickhouse_driver) (0.2.1)\n",
      "\u001b[33mDEPRECATION: omegaconf 2.0.6 has a non-standard dependency specifier PyYAML>=5.1.*. pip 24.1 will enforce this behaviour change. A possible replacement is to upgrade to a newer version of omegaconf or contact the author to suggest that they release a version with a conforming dependency specifiers. Discussion can be found at https://github.com/pypa/pip/issues/12063\u001b[0m\u001b[33m\n",
      "\u001b[0m\u001b[33mWARNING: Running pip as the 'root' user can result in broken permissions and conflicting behaviour with the system package manager. It is recommended to use a virtual environment instead: https://pip.pypa.io/warnings/venv\u001b[0m\u001b[33m\n",
      "\u001b[0m"
     ]
    }
   ],
   "source": [
    "# !pip install clickhouse_driver"
   ]
  },
  {
   "cell_type": "code",
   "execution_count": 11,
   "id": "d4586288",
   "metadata": {},
   "outputs": [
    {
     "name": "stderr",
     "output_type": "stream",
     "text": [
      "huggingface/tokenizers: The current process just got forked, after parallelism has already been used. Disabling parallelism to avoid deadlocks...\n",
      "To disable this warning, you can either:\n",
      "\t- Avoid using `tokenizers` before the fork if possible\n",
      "\t- Explicitly set the environment variable TOKENIZERS_PARALLELISM=(true | false)\n"
     ]
    },
    {
     "name": "stdout",
     "output_type": "stream",
     "text": [
      "Looking in indexes: https://pypi.org/simple, https://pypi.ngc.nvidia.com\n",
      "Requirement already satisfied: clickhouse_connect in /usr/local/lib/python3.8/dist-packages (0.7.2)\n",
      "Requirement already satisfied: certifi in /usr/local/lib/python3.8/dist-packages (from clickhouse_connect) (2022.12.7)\n",
      "Requirement already satisfied: urllib3>=1.26 in /usr/local/lib/python3.8/dist-packages (from clickhouse_connect) (1.26.13)\n",
      "Requirement already satisfied: pytz in /usr/local/lib/python3.8/dist-packages (from clickhouse_connect) (2022.6)\n",
      "Requirement already satisfied: zstandard in /usr/local/lib/python3.8/dist-packages (from clickhouse_connect) (0.22.0)\n",
      "Requirement already satisfied: lz4 in /usr/local/lib/python3.8/dist-packages (from clickhouse_connect) (4.3.3)\n",
      "\u001b[33mDEPRECATION: omegaconf 2.0.6 has a non-standard dependency specifier PyYAML>=5.1.*. pip 24.1 will enforce this behaviour change. A possible replacement is to upgrade to a newer version of omegaconf or contact the author to suggest that they release a version with a conforming dependency specifiers. Discussion can be found at https://github.com/pypa/pip/issues/12063\u001b[0m\u001b[33m\n",
      "\u001b[0m\u001b[33mWARNING: Running pip as the 'root' user can result in broken permissions and conflicting behaviour with the system package manager. It is recommended to use a virtual environment instead: https://pip.pypa.io/warnings/venv\u001b[0m\u001b[33m\n",
      "\u001b[0m"
     ]
    }
   ],
   "source": [
    "# !pip install clickhouse_connect"
   ]
  },
  {
   "cell_type": "code",
   "execution_count": 20,
   "id": "293d7ef2",
   "metadata": {},
   "outputs": [
    {
     "data": {
      "text/plain": [
       "[]"
      ]
     },
     "execution_count": 20,
     "metadata": {},
     "output_type": "execute_result"
    }
   ],
   "source": [
    "# Создание таблицы\n",
    "import clickhouse_driver\n",
    "\n",
    "client = clickhouse_driver.Client(host='localhost')\n",
    "client.execute(\"\"\"\n",
    "CREATE TABLE embeddings (\n",
    "    id UInt32,\n",
    "    embedding Array(Float32),\n",
    "    link String\n",
    ")\n",
    "ENGINE = MergeTree\n",
    "PRIMARY KEY (id)\n",
    "\"\"\")"
   ]
  },
  {
   "cell_type": "code",
   "execution_count": null,
   "id": "08583fa3",
   "metadata": {},
   "outputs": [],
   "source": [
    "client.execute('SHOW TABLES')"
   ]
  },
  {
   "cell_type": "code",
   "execution_count": 13,
   "id": "b073d8ab",
   "metadata": {},
   "outputs": [
    {
     "data": {
      "text/plain": [
       "<clickhouse_connect.driver.summary.QuerySummary at 0x7fbda824d730>"
      ]
     },
     "execution_count": 13,
     "metadata": {},
     "output_type": "execute_result"
    }
   ],
   "source": [
    "#Заполнение таблицы\n",
    "import clickhouse_connect\n",
    "\n",
    "client = clickhouse_connect.get_client()\n",
    "\n",
    "embeddings = text_vectors.tolist()\n",
    "links = test_data['link'].tolist()\n",
    "ids = list(range(len(text_vectors)))\n",
    "\n",
    "data = []\n",
    "\n",
    "for i in range(len(ids)):\n",
    "    row = [ids[i], embeddings[i], links[i]]\n",
    "    data.append(row)\n",
    "\n",
    "client.insert('embeddings', data, column_names=['id', 'embedding', 'link'])"
   ]
  },
  {
   "cell_type": "code",
   "execution_count": 14,
   "id": "0b02ca71",
   "metadata": {},
   "outputs": [
    {
     "data": {
      "text/plain": [
       "[(0,\n",
       "  [1.4124195575714111, -0.07120827585458755, -1250316.75],\n",
       "  'https://www.cbr.ru/about_br/publ/ddkp/'),\n",
       " (1,\n",
       "  [-0.6445415616035461, 1.258795976638794, -7689503.0],\n",
       "  'https://www.cbr.ru/dkp/exchange_rate/'),\n",
       " (2,\n",
       "  [-0.767877995967865, -1.1875869035720825, -6609879.0],\n",
       "  'https://cbr.ru/oper_br/o_a/currency/')]"
      ]
     },
     "execution_count": 14,
     "metadata": {},
     "output_type": "execute_result"
    }
   ],
   "source": [
    "#Вывод\n",
    "import clickhouse_driver\n",
    "\n",
    "client = clickhouse_driver.Client(host='localhost')\n",
    "client.execute(\"SELECT * FROM embeddings\")"
   ]
  },
  {
   "cell_type": "code",
   "execution_count": 15,
   "id": "2dc3aa53",
   "metadata": {},
   "outputs": [
    {
     "data": {
      "text/html": [
       "<div>\n",
       "<style scoped>\n",
       "    .dataframe tbody tr th:only-of-type {\n",
       "        vertical-align: middle;\n",
       "    }\n",
       "\n",
       "    .dataframe tbody tr th {\n",
       "        vertical-align: top;\n",
       "    }\n",
       "\n",
       "    .dataframe thead th {\n",
       "        text-align: right;\n",
       "    }\n",
       "</style>\n",
       "<table border=\"1\" class=\"dataframe\">\n",
       "  <thead>\n",
       "    <tr style=\"text-align: right;\">\n",
       "      <th></th>\n",
       "      <th>0</th>\n",
       "      <th>1</th>\n",
       "      <th>2</th>\n",
       "    </tr>\n",
       "  </thead>\n",
       "  <tbody>\n",
       "    <tr>\n",
       "      <th>0</th>\n",
       "      <td>0</td>\n",
       "      <td>[1.4124195575714111, -0.07120827585458755, -12...</td>\n",
       "      <td>https://www.cbr.ru/about_br/publ/ddkp/</td>\n",
       "    </tr>\n",
       "    <tr>\n",
       "      <th>1</th>\n",
       "      <td>1</td>\n",
       "      <td>[-0.6445415616035461, 1.258795976638794, -7689...</td>\n",
       "      <td>https://www.cbr.ru/dkp/exchange_rate/</td>\n",
       "    </tr>\n",
       "    <tr>\n",
       "      <th>2</th>\n",
       "      <td>2</td>\n",
       "      <td>[-0.767877995967865, -1.1875869035720825, -660...</td>\n",
       "      <td>https://cbr.ru/oper_br/o_a/currency/</td>\n",
       "    </tr>\n",
       "  </tbody>\n",
       "</table>\n",
       "</div>"
      ],
      "text/plain": [
       "   0                                                  1  \\\n",
       "0  0  [1.4124195575714111, -0.07120827585458755, -12...   \n",
       "1  1  [-0.6445415616035461, 1.258795976638794, -7689...   \n",
       "2  2  [-0.767877995967865, -1.1875869035720825, -660...   \n",
       "\n",
       "                                        2  \n",
       "0  https://www.cbr.ru/about_br/publ/ddkp/  \n",
       "1   https://www.cbr.ru/dkp/exchange_rate/  \n",
       "2    https://cbr.ru/oper_br/o_a/currency/  "
      ]
     },
     "execution_count": 15,
     "metadata": {},
     "output_type": "execute_result"
    }
   ],
   "source": [
    "result = client.execute(\"SELECT * FROM embeddings\")\n",
    "result_df = pd.DataFrame(result)\n",
    "\n",
    "result_df"
   ]
  },
  {
   "cell_type": "markdown",
   "id": "5ce3c213",
   "metadata": {},
   "source": [
    "# Загружаем языковую модель и токенизатор"
   ]
  },
  {
   "cell_type": "code",
   "execution_count": 28,
   "id": "ec14a047",
   "metadata": {},
   "outputs": [],
   "source": [
    "llm_dirname = '../nsu-ai/team_code/models/llm'\n"
   ]
  },
  {
   "cell_type": "code",
   "execution_count": 29,
   "id": "d9feff97",
   "metadata": {},
   "outputs": [
    {
     "data": {
      "application/vnd.jupyter.widget-view+json": {
       "model_id": "b7443e73acd343a8b4f8a773fbc88fd1",
       "version_major": 2,
       "version_minor": 0
      },
      "text/plain": [
       "Loading checkpoint shards:   0%|          | 0/2 [00:00<?, ?it/s]"
      ]
     },
     "metadata": {},
     "output_type": "display_data"
    }
   ],
   "source": [
    "llm_model = AutoModelForCausalLM.from_pretrained(llm_dirname, torch_dtype=torch.float16, device_map={\"\":0})\n",
    "tokenizer = AutoTokenizer.from_pretrained(llm_dirname)\n",
    "\n"
   ]
  },
  {
   "cell_type": "markdown",
   "id": "f646ae8f",
   "metadata": {},
   "source": [
    "# Question"
   ]
  },
  {
   "cell_type": "code",
   "execution_count": 74,
   "id": "4fcbb546",
   "metadata": {},
   "outputs": [
    {
     "data": {
      "text/plain": [
       "['Зачем Банк России перешел к режиму плавающего курса?']"
      ]
     },
     "execution_count": 74,
     "metadata": {},
     "output_type": "execute_result"
    }
   ],
   "source": [
    "sentence = [questions[1]]\n",
    "sentence"
   ]
  },
  {
   "cell_type": "code",
   "execution_count": 75,
   "id": "d7350c07",
   "metadata": {},
   "outputs": [
    {
     "data": {
      "text/plain": [
       "[-0.8993228077888489, 0.4237446188926697, -1691226603520.0]"
      ]
     },
     "execution_count": 75,
     "metadata": {},
     "output_type": "execute_result"
    }
   ],
   "source": [
    "embedding = model.encode(sentence)\n",
    "pca_embedding = pca.transform(embedding)\n",
    "pca_embedding = np.squeeze(pca_embedding)\n",
    "pca_embedding.tolist()"
   ]
  },
  {
   "cell_type": "markdown",
   "id": "940c5587",
   "metadata": {},
   "source": [
    "# L2Distance closest embedding"
   ]
  },
  {
   "cell_type": "code",
   "execution_count": 76,
   "id": "162850bf",
   "metadata": {},
   "outputs": [
    {
     "name": "stdout",
     "output_type": "stream",
     "text": [
      "ID: 1, Link: https://www.cbr.ru/dkp/exchange_rate/, Answer:     Банк России перешел к режиму плавающего курса в 2014 году.    Плавающий курс позволяет:    - Проводить самостоятельную денежно-кредитную политику    - Снижать инфляцию    - Экономике подстраиваться под меняющиеся внешние условия    \n"
     ]
    }
   ],
   "source": [
    "query_vector = pca_embedding.tolist()\n",
    "\n",
    "results = client.execute(\"\"\"\n",
    "SELECT id, embedding, link\n",
    "FROM embeddings\n",
    "ORDER BY L2Distance(embedding, {}) ASC\n",
    "LIMIT 1\n",
    "\"\"\".format(query_vector))\n",
    "\n",
    "\n",
    "for row in results:\n",
    "    id, embedding, link = row\n",
    "    print(f\"ID: {id}, Link: {link}, Answer: {test_data['answer'][id]}\")"
   ]
  },
  {
   "cell_type": "code",
   "execution_count": 77,
   "id": "40ed4a23",
   "metadata": {},
   "outputs": [],
   "source": [
    "found_text = test_data['answer'][results[0][0]]"
   ]
  },
  {
   "cell_type": "code",
   "execution_count": 78,
   "id": "8bb5b188",
   "metadata": {},
   "outputs": [
    {
     "data": {
      "text/plain": [
       "'    Банк России перешел к режиму плавающего курса в 2014 году.    Плавающий курс позволяет:    - Проводить самостоятельную денежно-кредитную политику    - Снижать инфляцию    - Экономике подстраиваться под меняющиеся внешние условия    '"
      ]
     },
     "execution_count": 78,
     "metadata": {},
     "output_type": "execute_result"
    }
   ],
   "source": [
    "found_text"
   ]
  },
  {
   "cell_type": "markdown",
   "id": "f20f65b4",
   "metadata": {},
   "source": [
    "# Собираем промпт, над ним надо ещё поработать"
   ]
  },
  {
   "cell_type": "code",
   "execution_count": 79,
   "id": "01991835",
   "metadata": {},
   "outputs": [],
   "source": [
    "full_prompt = '<s>[INST] вы полезный помощник банка россии, который вежливо отвечает на вопросы. ты знаешь что: ' + found_text + ' Вопрос: ' + sentence[0] + ' Отвечайте только то, в чем уверены.' + ' [/INST]'"
   ]
  },
  {
   "cell_type": "code",
   "execution_count": 80,
   "id": "ac02cb7d",
   "metadata": {},
   "outputs": [
    {
     "data": {
      "text/plain": [
       "'<s>[INST] вы полезный помощник банка россии, который вежливо отвечает на вопросы. ты знаешь что:     Банк России перешел к режиму плавающего курса в 2014 году.    Плавающий курс позволяет:    - Проводить самостоятельную денежно-кредитную политику    - Снижать инфляцию    - Экономике подстраиваться под меняющиеся внешние условия     Вопрос: Зачем Банк России перешел к режиму плавающего курса? Отвечайте только то, в чем уверены. [/INST]'"
      ]
     },
     "execution_count": 80,
     "metadata": {},
     "output_type": "execute_result"
    }
   ],
   "source": [
    "full_prompt"
   ]
  },
  {
   "cell_type": "markdown",
   "id": "655a3270",
   "metadata": {},
   "source": [
    "# Генерируем ответ"
   ]
  },
  {
   "cell_type": "code",
   "execution_count": 81,
   "id": "adb62ec3",
   "metadata": {},
   "outputs": [
    {
     "name": "stderr",
     "output_type": "stream",
     "text": [
      "/tmp/ipykernel_98/1589065902.py:2: UserWarning: To copy construct from a tensor, it is recommended to use sourceTensor.clone().detach() or sourceTensor.clone().detach().requires_grad_(True), rather than torch.tensor(sourceTensor).\n",
      "  input_prompt = tokenizer.batch_decode(torch.tensor(model_input['input_ids']), skip_special_tokens=True)[0]\n",
      "Setting `pad_token_id` to `eos_token_id`:2 for open-end generation.\n"
     ]
    }
   ],
   "source": [
    "model_input = tokenizer(full_prompt, return_tensors=\"pt\").to(\"cuda\")\n",
    "input_prompt = tokenizer.batch_decode(torch.tensor(model_input['input_ids']), skip_special_tokens=True)[0]\n",
    "\n",
    "with torch.no_grad():\n",
    "    generated_text = tokenizer.decode(llm_model.generate(**model_input, max_new_tokens=1000)[0], skip_special_tokens=True)\n",
    "    \n",
    "answer = ' '.join(generated_text[len(input_prompt):].split()).strip()"
   ]
  },
  {
   "cell_type": "code",
   "execution_count": 82,
   "id": "239902eb",
   "metadata": {},
   "outputs": [
    {
     "data": {
      "text/plain": [
       "'Банк России перешел к режиму плавающего курса в 2014 году с целью обеспечить экономическую стабильность и устойчивость в стране. Плавающий курс позволяет банку России проводить самостоятельную денежно-кредитную политику, снижать инфляцию, и экономике подстраиваться под меняющиеся внешние условия. Вероятно, банк России перешёл к плавающему курсу из-за необходимости в большей экономической свободе и независимости от внешних факторов, таких как международные кредиты и валютные интервенции. Плавающий курс также позволяет банку России лучше контролировать внутренние экономические процессы и реагировать на внешние условия, такие как изменения в мировых рынках и экономических условиях. В целом, переход к плавающему курсу был необходимым шагом для банка России, чтобы обеспечить экономическую стабильность и устойчивость в стране, и лучше контролировать внутренние экономические процессы.'"
      ]
     },
     "execution_count": 82,
     "metadata": {},
     "output_type": "execute_result"
    }
   ],
   "source": [
    "answer"
   ]
  },
  {
   "cell_type": "code",
   "execution_count": 83,
   "id": "7623022d",
   "metadata": {},
   "outputs": [
    {
     "data": {
      "text/plain": [
       "'    Банк России перешел к режиму плавающего курса в 2014 году.    Плавающий курс позволяет:    - Проводить самостоятельную денежно-кредитную политику    - Снижать инфляцию    - Экономике подстраиваться под меняющиеся внешние условия    '"
      ]
     },
     "execution_count": 83,
     "metadata": {},
     "output_type": "execute_result"
    }
   ],
   "source": [
    "test_data['answer'][1]"
   ]
  },
  {
   "cell_type": "code",
   "execution_count": null,
   "id": "25649428",
   "metadata": {},
   "outputs": [],
   "source": []
  }
 ],
 "metadata": {
  "kernelspec": {
   "display_name": "Python 3 (ipykernel)",
   "language": "python",
   "name": "python3"
  },
  "language_info": {
   "codemirror_mode": {
    "name": "ipython",
    "version": 3
   },
   "file_extension": ".py",
   "mimetype": "text/x-python",
   "name": "python",
   "nbconvert_exporter": "python",
   "pygments_lexer": "ipython3",
   "version": "3.8.10"
  }
 },
 "nbformat": 4,
 "nbformat_minor": 5
}
