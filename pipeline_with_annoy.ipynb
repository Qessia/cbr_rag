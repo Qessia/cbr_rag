{
 "cells": [
  {
   "cell_type": "code",
   "execution_count": 144,
   "id": "113a272d",
   "metadata": {},
   "outputs": [],
   "source": [
    "from sentence_transformers import SentenceTransformer\n",
    "from annoy import AnnoyIndex\n",
    "from sklearn.decomposition import PCA\n",
    "from sklearn.preprocessing import StandardScaler\n",
    "from sklearn.pipeline import Pipeline\n",
    "from transformers import AutoModelForCausalLM, AutoTokenizer\n",
    "import numpy as np\n",
    "import torch\n"
   ]
  },
  {
   "cell_type": "markdown",
   "id": "5317473e",
   "metadata": {},
   "source": [
    "# sentences - документы с базы данных, пока несколько \"документов\", что я сам придумал, затем они прогоняются через эмбеддер"
   ]
  },
  {
   "cell_type": "code",
   "execution_count": 145,
   "id": "6dfe5829",
   "metadata": {},
   "outputs": [
    {
     "name": "stdout",
     "output_type": "stream",
     "text": [
      "[[ 0.04468967 -0.0918605  -0.00948589 ... -0.03272169  0.01700571\n",
      "   0.111098  ]\n",
      " [ 0.05723943  0.15294039 -0.0171421  ...  0.11154366  0.0364729\n",
      "   0.14252166]\n",
      " [-0.03234731 -0.47003657 -0.00886906 ... -0.0270731  -0.04644873\n",
      "   0.02242003]\n",
      " [-0.0325066  -0.06682001 -0.0177744  ...  0.08461011 -0.01872939\n",
      "   0.06934763]]\n"
     ]
    }
   ],
   "source": [
    "sentences = [\"Банк России - национальный банк, учрежден в 1992 году.\", \"Деньги лучше класть в банк, чем в банку.\", \"Курс валют на сегодня - доллар 36 рублей, евро - 37.\", \"Лучший банк - цетральный банк.\"]\n",
    "\n",
    "model = SentenceTransformer('sentence-transformers/paraphrase-multilingual-mpnet-base-v2')\n",
    "embeddings = model.encode(sentences)\n",
    "print(embeddings)"
   ]
  },
  {
   "cell_type": "code",
   "execution_count": 32,
   "id": "be4afac6",
   "metadata": {},
   "outputs": [
    {
     "data": {
      "text/plain": [
       "(4, 768)"
      ]
     },
     "execution_count": 32,
     "metadata": {},
     "output_type": "execute_result"
    }
   ],
   "source": [
    "embeddings.shape"
   ]
  },
  {
   "cell_type": "code",
   "execution_count": 57,
   "id": "ea1bfbe8",
   "metadata": {},
   "outputs": [],
   "source": [
    "# text_vectors = np.vstack(embeddings)\n",
    "# text_vectors"
   ]
  },
  {
   "cell_type": "markdown",
   "id": "82f13548",
   "metadata": {},
   "source": [
    "# Понижение размерности с помощью PCA, пока до 2 компонентов на тест, лучше до ~300, когда будет большая база"
   ]
  },
  {
   "cell_type": "code",
   "execution_count": 33,
   "id": "48012ca0",
   "metadata": {},
   "outputs": [
    {
     "data": {
      "text/html": [
       "<style>#sk-container-id-5 {color: black;background-color: white;}#sk-container-id-5 pre{padding: 0;}#sk-container-id-5 div.sk-toggleable {background-color: white;}#sk-container-id-5 label.sk-toggleable__label {cursor: pointer;display: block;width: 100%;margin-bottom: 0;padding: 0.3em;box-sizing: border-box;text-align: center;}#sk-container-id-5 label.sk-toggleable__label-arrow:before {content: \"▸\";float: left;margin-right: 0.25em;color: #696969;}#sk-container-id-5 label.sk-toggleable__label-arrow:hover:before {color: black;}#sk-container-id-5 div.sk-estimator:hover label.sk-toggleable__label-arrow:before {color: black;}#sk-container-id-5 div.sk-toggleable__content {max-height: 0;max-width: 0;overflow: hidden;text-align: left;background-color: #f0f8ff;}#sk-container-id-5 div.sk-toggleable__content pre {margin: 0.2em;color: black;border-radius: 0.25em;background-color: #f0f8ff;}#sk-container-id-5 input.sk-toggleable__control:checked~div.sk-toggleable__content {max-height: 200px;max-width: 100%;overflow: auto;}#sk-container-id-5 input.sk-toggleable__control:checked~label.sk-toggleable__label-arrow:before {content: \"▾\";}#sk-container-id-5 div.sk-estimator input.sk-toggleable__control:checked~label.sk-toggleable__label {background-color: #d4ebff;}#sk-container-id-5 div.sk-label input.sk-toggleable__control:checked~label.sk-toggleable__label {background-color: #d4ebff;}#sk-container-id-5 input.sk-hidden--visually {border: 0;clip: rect(1px 1px 1px 1px);clip: rect(1px, 1px, 1px, 1px);height: 1px;margin: -1px;overflow: hidden;padding: 0;position: absolute;width: 1px;}#sk-container-id-5 div.sk-estimator {font-family: monospace;background-color: #f0f8ff;border: 1px dotted black;border-radius: 0.25em;box-sizing: border-box;margin-bottom: 0.5em;}#sk-container-id-5 div.sk-estimator:hover {background-color: #d4ebff;}#sk-container-id-5 div.sk-parallel-item::after {content: \"\";width: 100%;border-bottom: 1px solid gray;flex-grow: 1;}#sk-container-id-5 div.sk-label:hover label.sk-toggleable__label {background-color: #d4ebff;}#sk-container-id-5 div.sk-serial::before {content: \"\";position: absolute;border-left: 1px solid gray;box-sizing: border-box;top: 0;bottom: 0;left: 50%;z-index: 0;}#sk-container-id-5 div.sk-serial {display: flex;flex-direction: column;align-items: center;background-color: white;padding-right: 0.2em;padding-left: 0.2em;position: relative;}#sk-container-id-5 div.sk-item {position: relative;z-index: 1;}#sk-container-id-5 div.sk-parallel {display: flex;align-items: stretch;justify-content: center;background-color: white;position: relative;}#sk-container-id-5 div.sk-item::before, #sk-container-id-5 div.sk-parallel-item::before {content: \"\";position: absolute;border-left: 1px solid gray;box-sizing: border-box;top: 0;bottom: 0;left: 50%;z-index: -1;}#sk-container-id-5 div.sk-parallel-item {display: flex;flex-direction: column;z-index: 1;position: relative;background-color: white;}#sk-container-id-5 div.sk-parallel-item:first-child::after {align-self: flex-end;width: 50%;}#sk-container-id-5 div.sk-parallel-item:last-child::after {align-self: flex-start;width: 50%;}#sk-container-id-5 div.sk-parallel-item:only-child::after {width: 0;}#sk-container-id-5 div.sk-dashed-wrapped {border: 1px dashed gray;margin: 0 0.4em 0.5em 0.4em;box-sizing: border-box;padding-bottom: 0.4em;background-color: white;}#sk-container-id-5 div.sk-label label {font-family: monospace;font-weight: bold;display: inline-block;line-height: 1.2em;}#sk-container-id-5 div.sk-label-container {text-align: center;}#sk-container-id-5 div.sk-container {/* jupyter's `normalize.less` sets `[hidden] { display: none; }` but bootstrap.min.css set `[hidden] { display: none !important; }` so we also need the `!important` here to be able to override the default hidden behavior on the sphinx rendered scikit-learn.org. See: https://github.com/scikit-learn/scikit-learn/issues/21755 */display: inline-block !important;position: relative;}#sk-container-id-5 div.sk-text-repr-fallback {display: none;}</style><div id=\"sk-container-id-5\" class=\"sk-top-container\"><div class=\"sk-text-repr-fallback\"><pre>Pipeline(steps=[(&#x27;mean&#x27;, StandardScaler(with_std=False)),\n",
       "                (&#x27;pca&#x27;, PCA(n_components=2, random_state=42)),\n",
       "                (&#x27;std&#x27;, StandardScaler())])</pre><b>In a Jupyter environment, please rerun this cell to show the HTML representation or trust the notebook. <br />On GitHub, the HTML representation is unable to render, please try loading this page with nbviewer.org.</b></div><div class=\"sk-container\" hidden><div class=\"sk-item sk-dashed-wrapped\"><div class=\"sk-label-container\"><div class=\"sk-label sk-toggleable\"><input class=\"sk-toggleable__control sk-hidden--visually\" id=\"sk-estimator-id-17\" type=\"checkbox\" ><label for=\"sk-estimator-id-17\" class=\"sk-toggleable__label sk-toggleable__label-arrow\">Pipeline</label><div class=\"sk-toggleable__content\"><pre>Pipeline(steps=[(&#x27;mean&#x27;, StandardScaler(with_std=False)),\n",
       "                (&#x27;pca&#x27;, PCA(n_components=2, random_state=42)),\n",
       "                (&#x27;std&#x27;, StandardScaler())])</pre></div></div></div><div class=\"sk-serial\"><div class=\"sk-item\"><div class=\"sk-estimator sk-toggleable\"><input class=\"sk-toggleable__control sk-hidden--visually\" id=\"sk-estimator-id-18\" type=\"checkbox\" ><label for=\"sk-estimator-id-18\" class=\"sk-toggleable__label sk-toggleable__label-arrow\">StandardScaler</label><div class=\"sk-toggleable__content\"><pre>StandardScaler(with_std=False)</pre></div></div></div><div class=\"sk-item\"><div class=\"sk-estimator sk-toggleable\"><input class=\"sk-toggleable__control sk-hidden--visually\" id=\"sk-estimator-id-19\" type=\"checkbox\" ><label for=\"sk-estimator-id-19\" class=\"sk-toggleable__label sk-toggleable__label-arrow\">PCA</label><div class=\"sk-toggleable__content\"><pre>PCA(n_components=2, random_state=42)</pre></div></div></div><div class=\"sk-item\"><div class=\"sk-estimator sk-toggleable\"><input class=\"sk-toggleable__control sk-hidden--visually\" id=\"sk-estimator-id-20\" type=\"checkbox\" ><label for=\"sk-estimator-id-20\" class=\"sk-toggleable__label sk-toggleable__label-arrow\">StandardScaler</label><div class=\"sk-toggleable__content\"><pre>StandardScaler()</pre></div></div></div></div></div></div></div>"
      ],
      "text/plain": [
       "Pipeline(steps=[('mean', StandardScaler(with_std=False)),\n",
       "                ('pca', PCA(n_components=2, random_state=42)),\n",
       "                ('std', StandardScaler())])"
      ]
     },
     "execution_count": 33,
     "metadata": {},
     "output_type": "execute_result"
    }
   ],
   "source": [
    "pca = Pipeline(steps=[\n",
    "    ('mean', StandardScaler(with_mean=True, with_std=False)),\n",
    "    ('pca', PCA(n_components=2, random_state=42)),\n",
    "    ('std', StandardScaler(with_mean=True, with_std=True))\n",
    "])\n",
    "pca.fit(embeddings)"
   ]
  },
  {
   "cell_type": "code",
   "execution_count": 36,
   "id": "37d9c36c",
   "metadata": {},
   "outputs": [
    {
     "data": {
      "text/plain": [
       "(4, 2)"
      ]
     },
     "execution_count": 36,
     "metadata": {},
     "output_type": "execute_result"
    }
   ],
   "source": [
    "text_vectors = pca.transform(embeddings)\n",
    "text_vectors.shape"
   ]
  },
  {
   "cell_type": "code",
   "execution_count": 37,
   "id": "bfd5995e",
   "metadata": {},
   "outputs": [
    {
     "data": {
      "text/plain": [
       "array([[ 0.1321801 ,  1.6664053 ],\n",
       "       [-0.8906605 , -0.8592002 ],\n",
       "       [ 1.5837332 , -0.68562907],\n",
       "       [-0.8252529 , -0.1215768 ]], dtype=float32)"
      ]
     },
     "execution_count": 37,
     "metadata": {},
     "output_type": "execute_result"
    }
   ],
   "source": [
    "text_vectors"
   ]
  },
  {
   "cell_type": "markdown",
   "id": "040b69b7",
   "metadata": {},
   "source": [
    "# Создаем annoy_index для того, чтобы потом проводить поиск и находить ближайших соседей"
   ]
  },
  {
   "cell_type": "code",
   "execution_count": 41,
   "id": "e8003173",
   "metadata": {},
   "outputs": [],
   "source": [
    "feature_vector_size = text_vectors.shape[1]\n",
    "annoy_index = AnnoyIndex(feature_vector_size, 'angular')"
   ]
  },
  {
   "cell_type": "code",
   "execution_count": 42,
   "id": "0ccbe382",
   "metadata": {},
   "outputs": [],
   "source": [
    "text_collection = []"
   ]
  },
  {
   "cell_type": "code",
   "execution_count": 48,
   "id": "c40a0cfc",
   "metadata": {},
   "outputs": [],
   "source": [
    "for i in range(text_vectors.shape[0]):\n",
    "    annoy_index.add_item(len(text_collection), text_vectors[i])\n",
    "    text_collection.append(sentences[i])"
   ]
  },
  {
   "cell_type": "code",
   "execution_count": 50,
   "id": "60ee662f",
   "metadata": {},
   "outputs": [
    {
     "data": {
      "text/plain": [
       "True"
      ]
     },
     "execution_count": 50,
     "metadata": {},
     "output_type": "execute_result"
    }
   ],
   "source": [
    "annoy_index.build(n_trees=2, n_jobs=-1)"
   ]
  },
  {
   "cell_type": "code",
   "execution_count": 52,
   "id": "aad9788e",
   "metadata": {},
   "outputs": [
    {
     "data": {
      "text/plain": [
       "True"
      ]
     },
     "execution_count": 52,
     "metadata": {},
     "output_type": "execute_result"
    }
   ],
   "source": [
    "annoy_index.save('test_cbr.ann')\n"
   ]
  },
  {
   "cell_type": "markdown",
   "id": "8bcec7cd",
   "metadata": {},
   "source": [
    "# Загружаем языковую модель и токенизатор"
   ]
  },
  {
   "cell_type": "code",
   "execution_count": 59,
   "id": "9a81df4e",
   "metadata": {},
   "outputs": [],
   "source": [
    "llm_dirname = '../nsu-ai/team_code/models/llm'\n"
   ]
  },
  {
   "cell_type": "code",
   "execution_count": 60,
   "id": "60e11cb0",
   "metadata": {},
   "outputs": [
    {
     "name": "stderr",
     "output_type": "stream",
     "text": [
      "Loading checkpoint shards: 100%|██████████| 2/2 [00:21<00:00, 10.51s/it]\n"
     ]
    }
   ],
   "source": [
    "llm_model = AutoModelForCausalLM.from_pretrained(llm_dirname, torch_dtype=torch.float16, device_map={\"\":0})\n",
    "tokenizer = AutoTokenizer.from_pretrained(llm_dirname)\n",
    "\n"
   ]
  },
  {
   "cell_type": "code",
   "execution_count": 62,
   "id": "01cd7b52",
   "metadata": {},
   "outputs": [],
   "source": [
    "model = model.to('cuda') # решил закинуть эмбеддер на куду"
   ]
  },
  {
   "cell_type": "code",
   "execution_count": 63,
   "id": "f251c4a7",
   "metadata": {},
   "outputs": [
    {
     "data": {
      "text/plain": [
       "SentenceTransformer(\n",
       "  (0): Transformer({'max_seq_length': 128, 'do_lower_case': False}) with Transformer model: XLMRobertaModel \n",
       "  (1): Pooling({'word_embedding_dimension': 768, 'pooling_mode_cls_token': False, 'pooling_mode_mean_tokens': True, 'pooling_mode_max_tokens': False, 'pooling_mode_mean_sqrt_len_tokens': False})\n",
       ")"
      ]
     },
     "execution_count": 63,
     "metadata": {},
     "output_type": "execute_result"
    }
   ],
   "source": [
    "model"
   ]
  },
  {
   "cell_type": "markdown",
   "id": "b86c5fff",
   "metadata": {},
   "source": [
    "# Берем вопрос и прогоняем через эмбеддер, понижаем размерность"
   ]
  },
  {
   "cell_type": "code",
   "execution_count": 121,
   "id": "13a84018",
   "metadata": {},
   "outputs": [],
   "source": [
    "sentence = [\"Когда был основан Банк России?\"]\n",
    "embedding = model.encode(sentence)\n",
    "pca_embedding = pca.transform(embedding)\n"
   ]
  },
  {
   "cell_type": "code",
   "execution_count": 122,
   "id": "cf482157",
   "metadata": {},
   "outputs": [
    {
     "data": {
      "text/plain": [
       "(2,)"
      ]
     },
     "execution_count": 122,
     "metadata": {},
     "output_type": "execute_result"
    }
   ],
   "source": [
    "pca_embedding = np.squeeze(pca_embedding)\n",
    "pca_embedding.shape"
   ]
  },
  {
   "cell_type": "markdown",
   "id": "ba0097b1",
   "metadata": {},
   "source": [
    "# находим "
   ]
  },
  {
   "cell_type": "code",
   "execution_count": 123,
   "id": "5ec703fa",
   "metadata": {},
   "outputs": [],
   "source": [
    "found_indices = annoy_index.get_nns_by_vector(pca_embedding, n=1, search_k=-1)\n"
   ]
  },
  {
   "cell_type": "code",
   "execution_count": 124,
   "id": "8571e039",
   "metadata": {},
   "outputs": [
    {
     "data": {
      "text/plain": [
       "[0]"
      ]
     },
     "execution_count": 124,
     "metadata": {},
     "output_type": "execute_result"
    }
   ],
   "source": [
    "found_indices"
   ]
  },
  {
   "cell_type": "code",
   "execution_count": 125,
   "id": "cad428c3",
   "metadata": {},
   "outputs": [
    {
     "data": {
      "text/plain": [
       "['Банк России - национальный банк, учрежден в 1992 году.']"
      ]
     },
     "execution_count": 125,
     "metadata": {},
     "output_type": "execute_result"
    }
   ],
   "source": [
    "found_texts = [sentences[idx] for idx in found_indices]\n",
    "found_texts"
   ]
  },
  {
   "cell_type": "code",
   "execution_count": 128,
   "id": "e96d9e31",
   "metadata": {},
   "outputs": [],
   "source": [
    "full_prompt = '<s>[INST] вы полезный помощник банка россии, который вежливо отвечает на вопросы. ты знаешь что: ' + found_texts[0] + ' Ответьте согласно этой информации. ' + sentence[0] + ' [/INST]'"
   ]
  },
  {
   "cell_type": "code",
   "execution_count": 129,
   "id": "b1fb65bc",
   "metadata": {},
   "outputs": [
    {
     "data": {
      "text/plain": [
       "'<s>[INST] вы полезный помощник банка россии, который вежливо отвечает на вопросы. ты знаешь что: Банк России - национальный банк, учрежден в 1992 году. Ответьте согласно этой информации. Когда был основан Банк России? [/INST]'"
      ]
     },
     "execution_count": 129,
     "metadata": {},
     "output_type": "execute_result"
    }
   ],
   "source": [
    "full_prompt"
   ]
  },
  {
   "cell_type": "code",
   "execution_count": 142,
   "id": "a4d81959",
   "metadata": {},
   "outputs": [
    {
     "name": "stderr",
     "output_type": "stream",
     "text": [
      "/tmp/ipykernel_16180/1589065902.py:2: UserWarning: To copy construct from a tensor, it is recommended to use sourceTensor.clone().detach() or sourceTensor.clone().detach().requires_grad_(True), rather than torch.tensor(sourceTensor).\n",
      "  input_prompt = tokenizer.batch_decode(torch.tensor(model_input['input_ids']), skip_special_tokens=True)[0]\n",
      "Setting `pad_token_id` to `eos_token_id`:2 for open-end generation.\n"
     ]
    }
   ],
   "source": [
    "model_input = tokenizer(full_prompt, return_tensors=\"pt\").to(\"cuda\")\n",
    "input_prompt = tokenizer.batch_decode(torch.tensor(model_input['input_ids']), skip_special_tokens=True)[0]\n",
    "\n",
    "with torch.no_grad():\n",
    "    generated_text = tokenizer.decode(llm_model.generate(**model_input, max_new_tokens=1000)[0], skip_special_tokens=True)\n",
    "    \n",
    "answer = ' '.join(generated_text[len(input_prompt):].split()).strip()"
   ]
  },
  {
   "cell_type": "code",
   "execution_count": 143,
   "id": "67fa004c",
   "metadata": {},
   "outputs": [
    {
     "data": {
      "text/plain": [
       "'Банк России был основан в 1992 году.'"
      ]
     },
     "execution_count": 143,
     "metadata": {},
     "output_type": "execute_result"
    }
   ],
   "source": [
    "answer"
   ]
  },
  {
   "cell_type": "code",
   "execution_count": 140,
   "id": "15ca9b10",
   "metadata": {},
   "outputs": [
    {
     "name": "stderr",
     "output_type": "stream",
     "text": [
      "/tmp/ipykernel_16180/1877989193.py:1: UserWarning: To copy construct from a tensor, it is recommended to use sourceTensor.clone().detach() or sourceTensor.clone().detach().requires_grad_(True), rather than torch.tensor(sourceTensor).\n",
      "  input_prompt = tokenizer.batch_decode(torch.tensor(model_input['input_ids']), skip_special_tokens=True)[0]\n"
     ]
    }
   ],
   "source": []
  },
  {
   "cell_type": "code",
   "execution_count": null,
   "id": "dc91d537",
   "metadata": {},
   "outputs": [],
   "source": []
  }
 ],
 "metadata": {
  "kernelspec": {
   "display_name": "Python 3 (ipykernel)",
   "language": "python",
   "name": "python3"
  },
  "language_info": {
   "codemirror_mode": {
    "name": "ipython",
    "version": 3
   },
   "file_extension": ".py",
   "mimetype": "text/x-python",
   "name": "python",
   "nbconvert_exporter": "python",
   "pygments_lexer": "ipython3",
   "version": "3.8.10"
  }
 },
 "nbformat": 4,
 "nbformat_minor": 5
}
