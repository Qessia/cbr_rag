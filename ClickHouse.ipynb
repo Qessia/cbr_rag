{
 "cells": [
  {
   "cell_type": "markdown",
   "id": "466f4acf",
   "metadata": {},
   "source": [
    "# Тестовые данные"
   ]
  },
  {
   "cell_type": "code",
   "execution_count": 197,
   "id": "4074c07f",
   "metadata": {},
   "outputs": [],
   "source": [
    "import csv\n",
    "\n",
    "\n",
    "questions = [\n",
    "    \"Что такое курс рубля и почему он меняется?\",\n",
    "    \"Зачем Банк России перешел к режиму плавающего курса?\",\n",
    "    \"Проводит ли Банк России операции с целью укрепить или ослабить рубль?\"\n",
    "]\n",
    "\n",
    "answers = [\n",
    "    \"\"\"\n",
    "    Курс рубля к иностранной валюте - это стоимость одного рубля, \n",
    "    выраженная в единицах иностранной валюты.\n",
    "    Курс рубля меняется под влиянием спроса и предложения на \n",
    "    иностранную валюту на валютном рынке.\n",
    "\n",
    "    На курс рубля могут влиять:\n",
    "    - Объемы внешней торговли\n",
    "    - Импортные и экспортные цены\n",
    "    - Уровни инфляции и процентных ставок\n",
    "    - Темпы экономического роста\n",
    "    - Периоды нестабильности\n",
    "    - Изменения денежно-кредитной политики\n",
    "    \"\"\",\n",
    "    \"\"\"\n",
    "    Банк России перешел к режиму плавающего курса в 2014 году.\n",
    "    Плавающий курс позволяет:\n",
    "    - Проводить самостоятельную денежно-кредитную политику\n",
    "    - Снижать инфляцию\n",
    "    - Экономике подстраиваться под меняющиеся внешние условия\n",
    "    \"\"\",\n",
    "    \"\"\"\n",
    "    В обычных условиях Банк России не вмешивается в курс рубля.\n",
    "    Банк России может проводить операции на валютном рынке:\n",
    "    - Для поддержания финансовой стабильности\n",
    "    - Для пополнения международных резервов\n",
    "    - В 2014 году Банк России проводил интервенции для поддержки рубля\n",
    "    \"\"\"\n",
    "]\n",
    "\n",
    "\n",
    "links = [\n",
    "    \"https://www.cbr.ru/about_br/publ/ddkp/\",\n",
    "    \"https://www.cbr.ru/dkp/exchange_rate/\",\n",
    "    \"https://cbr.ru/oper_br/o_a/currency/\"\n",
    "]\n",
    "\n",
    "\n",
    "with open(\"test.csv\", \"w\", newline=\"\") as csvfile:\n",
    "    writer = csv.writer(csvfile)\n",
    "    writer.writerow([\"answer\", \"link\"])\n",
    "    for answer, link in zip(answers, links):\n",
    "        writer.writerow([answer, link])\n",
    "\n",
    "\n"
   ]
  },
  {
   "cell_type": "code",
   "execution_count": 230,
   "id": "4a68e125",
   "metadata": {},
   "outputs": [],
   "source": [
    "import pandas as pd\n",
    "test_data= pd.read_csv(\"test.csv\") \n",
    "test_data[\"answer\"] = test_data[\"answer\"].str.replace(\"\\n\", \" \")"
   ]
  },
  {
   "cell_type": "code",
   "execution_count": 231,
   "id": "2ba5a0b7",
   "metadata": {},
   "outputs": [
    {
     "data": {
      "text/plain": [
       "'     Курс рубля к иностранной валюте - это стоимость одного рубля,      выраженная в единицах иностранной валюты.     Курс рубля меняется под влиянием спроса и предложения на      иностранную валюту на валютном рынке.      На курс рубля могут влиять:     - Объемы внешней торговли     - Импортные и экспортные цены     - Уровни инфляции и процентных ставок     - Темпы экономического роста     - Периоды нестабильности     - Изменения денежно-кредитной политики     '"
      ]
     },
     "execution_count": 231,
     "metadata": {},
     "output_type": "execute_result"
    }
   ],
   "source": [
    "test_data['answer'][0]"
   ]
  },
  {
   "cell_type": "markdown",
   "id": "935bf128",
   "metadata": {},
   "source": [
    "# Эмбеддинги"
   ]
  },
  {
   "cell_type": "code",
   "execution_count": 200,
   "id": "4a92bf81",
   "metadata": {},
   "outputs": [],
   "source": [
    "from sentence_transformers import SentenceTransformer\n",
    "from annoy import AnnoyIndex\n",
    "from sklearn.decomposition import PCA\n",
    "from sklearn.preprocessing import StandardScaler\n",
    "from sklearn.pipeline import Pipeline\n",
    "from transformers import AutoModelForCausalLM, AutoTokenizer\n",
    "import numpy as np\n",
    "import torch"
   ]
  },
  {
   "cell_type": "code",
   "execution_count": 232,
   "id": "3ca792fe",
   "metadata": {},
   "outputs": [
    {
     "name": "stdout",
     "output_type": "stream",
     "text": [
      "[[ 0.01131858 -0.16646418 -0.01336718 ... -0.02108256  0.02286251\n",
      "   0.03454603]\n",
      " [ 0.03172838 -0.17987297 -0.0171023  ...  0.01832074 -0.07802644\n",
      "   0.04500177]\n",
      " [ 0.10769528 -0.19871435 -0.01545429 ...  0.04401986 -0.05108445\n",
      "   0.04408291]]\n"
     ]
    }
   ],
   "source": [
    "model = SentenceTransformer('sentence-transformers/paraphrase-multilingual-mpnet-base-v2')\n",
    "embeddings = model.encode(test_data['answer'])\n",
    "print(embeddings)"
   ]
  },
  {
   "cell_type": "code",
   "execution_count": 233,
   "id": "52847618",
   "metadata": {},
   "outputs": [
    {
     "data": {
      "text/plain": [
       "(3, 768)"
      ]
     },
     "execution_count": 233,
     "metadata": {},
     "output_type": "execute_result"
    }
   ],
   "source": [
    "embeddings.shape"
   ]
  },
  {
   "cell_type": "code",
   "execution_count": 234,
   "id": "f64ffd2b",
   "metadata": {},
   "outputs": [
    {
     "data": {
      "text/plain": [
       "Pipeline(steps=[('mean', StandardScaler(with_std=False)),\n",
       "                ('pca', PCA(n_components=2, random_state=42)),\n",
       "                ('std', StandardScaler())])"
      ]
     },
     "execution_count": 234,
     "metadata": {},
     "output_type": "execute_result"
    }
   ],
   "source": [
    "pca = Pipeline(steps=[\n",
    "    ('mean', StandardScaler(with_mean=True, with_std=False)),\n",
    "    ('pca', PCA(n_components=2, random_state=42)),\n",
    "    ('std', StandardScaler(with_mean=True, with_std=True))\n",
    "])\n",
    "pca.fit(embeddings)"
   ]
  },
  {
   "cell_type": "code",
   "execution_count": 235,
   "id": "9c2e8068",
   "metadata": {},
   "outputs": [
    {
     "data": {
      "text/plain": [
       "(3, 2)"
      ]
     },
     "execution_count": 235,
     "metadata": {},
     "output_type": "execute_result"
    }
   ],
   "source": [
    "text_vectors = pca.transform(embeddings)\n",
    "text_vectors.shape"
   ]
  },
  {
   "cell_type": "code",
   "execution_count": 205,
   "id": "94a790fc",
   "metadata": {},
   "outputs": [
    {
     "data": {
      "text/plain": [
       "array([[ 1.4124194 , -0.07120789],\n",
       "       [-0.64454186,  1.2587956 ],\n",
       "       [-0.76787776, -1.1875875 ]], dtype=float32)"
      ]
     },
     "execution_count": 205,
     "metadata": {},
     "output_type": "execute_result"
    }
   ],
   "source": [
    "text_vectors"
   ]
  },
  {
   "cell_type": "markdown",
   "id": "80260929",
   "metadata": {},
   "source": [
    "# ClickHouse"
   ]
  },
  {
   "cell_type": "code",
   "execution_count": 213,
   "id": "32b14bfa",
   "metadata": {},
   "outputs": [
    {
     "data": {
      "text/plain": [
       "[]"
      ]
     },
     "execution_count": 213,
     "metadata": {},
     "output_type": "execute_result"
    }
   ],
   "source": [
    "# Создание таблицы\n",
    "import clickhouse_driver\n",
    "\n",
    "client = clickhouse_driver.Client(host='localhost')\n",
    "client.execute(\"\"\"\n",
    "CREATE TABLE embeddings (\n",
    "    id UInt32,\n",
    "    embedding Array(Float32),\n",
    "    link String\n",
    ")\n",
    "ENGINE = MergeTree\n",
    "PRIMARY KEY (id)\n",
    "\"\"\")"
   ]
  },
  {
   "cell_type": "code",
   "execution_count": 236,
   "id": "929020c9",
   "metadata": {},
   "outputs": [
    {
     "data": {
      "text/plain": [
       "[('embeddings',), ('my_first_table',)]"
      ]
     },
     "execution_count": 236,
     "metadata": {},
     "output_type": "execute_result"
    }
   ],
   "source": [
    "client.execute('SHOW TABLES')"
   ]
  },
  {
   "cell_type": "code",
   "execution_count": 215,
   "id": "f2fd3f99",
   "metadata": {},
   "outputs": [
    {
     "data": {
      "text/plain": [
       "<clickhouse_connect.driver.summary.QuerySummary at 0x7f34d25716a0>"
      ]
     },
     "execution_count": 215,
     "metadata": {},
     "output_type": "execute_result"
    }
   ],
   "source": [
    "#Заполнение таблицы\n",
    "import clickhouse_connect\n",
    "\n",
    "client = clickhouse_connect.get_client()\n",
    "\n",
    "embeddings = text_vectors.tolist()\n",
    "links = data['link'].tolist()\n",
    "ids = list(range(len(text_vectors)))\n",
    "\n",
    "data = []\n",
    "\n",
    "for i in range(len(ids)):\n",
    "    row = [ids[i], embeddings[i], links[i]]\n",
    "    data.append(row)\n",
    "\n",
    "client.insert('embeddings', data, column_names=['id', 'embedding', 'link'])"
   ]
  },
  {
   "cell_type": "code",
   "execution_count": 216,
   "id": "b11da02d",
   "metadata": {},
   "outputs": [
    {
     "data": {
      "text/plain": [
       "[(0,\n",
       "  [1.4124194383621216, -0.07120788842439651],\n",
       "  'https://www.cbr.ru/about_br/publ/ddkp/'),\n",
       " (1,\n",
       "  [-0.64454185962677, 1.2587956190109253],\n",
       "  'https://www.cbr.ru/dkp/exchange_rate/'),\n",
       " (2,\n",
       "  [-0.7678777575492859, -1.1875874996185303],\n",
       "  'https://cbr.ru/oper_br/o_a/currency/')]"
      ]
     },
     "execution_count": 216,
     "metadata": {},
     "output_type": "execute_result"
    }
   ],
   "source": [
    "#Вывод\n",
    "import clickhouse_driver\n",
    "\n",
    "client = clickhouse_driver.Client(host='localhost')\n",
    "client.execute(\"SELECT * FROM embeddings\")"
   ]
  },
  {
   "cell_type": "code",
   "execution_count": 217,
   "id": "b82a8c66",
   "metadata": {},
   "outputs": [
    {
     "data": {
      "text/html": [
       "<div>\n",
       "<style scoped>\n",
       "    .dataframe tbody tr th:only-of-type {\n",
       "        vertical-align: middle;\n",
       "    }\n",
       "\n",
       "    .dataframe tbody tr th {\n",
       "        vertical-align: top;\n",
       "    }\n",
       "\n",
       "    .dataframe thead th {\n",
       "        text-align: right;\n",
       "    }\n",
       "</style>\n",
       "<table border=\"1\" class=\"dataframe\">\n",
       "  <thead>\n",
       "    <tr style=\"text-align: right;\">\n",
       "      <th></th>\n",
       "      <th>0</th>\n",
       "      <th>1</th>\n",
       "      <th>2</th>\n",
       "    </tr>\n",
       "  </thead>\n",
       "  <tbody>\n",
       "    <tr>\n",
       "      <th>0</th>\n",
       "      <td>0</td>\n",
       "      <td>[1.4124194383621216, -0.07120788842439651]</td>\n",
       "      <td>https://www.cbr.ru/about_br/publ/ddkp/</td>\n",
       "    </tr>\n",
       "    <tr>\n",
       "      <th>1</th>\n",
       "      <td>1</td>\n",
       "      <td>[-0.64454185962677, 1.2587956190109253]</td>\n",
       "      <td>https://www.cbr.ru/dkp/exchange_rate/</td>\n",
       "    </tr>\n",
       "    <tr>\n",
       "      <th>2</th>\n",
       "      <td>2</td>\n",
       "      <td>[-0.7678777575492859, -1.1875874996185303]</td>\n",
       "      <td>https://cbr.ru/oper_br/o_a/currency/</td>\n",
       "    </tr>\n",
       "  </tbody>\n",
       "</table>\n",
       "</div>"
      ],
      "text/plain": [
       "   0                                           1  \\\n",
       "0  0  [1.4124194383621216, -0.07120788842439651]   \n",
       "1  1     [-0.64454185962677, 1.2587956190109253]   \n",
       "2  2  [-0.7678777575492859, -1.1875874996185303]   \n",
       "\n",
       "                                        2  \n",
       "0  https://www.cbr.ru/about_br/publ/ddkp/  \n",
       "1   https://www.cbr.ru/dkp/exchange_rate/  \n",
       "2    https://cbr.ru/oper_br/o_a/currency/  "
      ]
     },
     "execution_count": 217,
     "metadata": {},
     "output_type": "execute_result"
    }
   ],
   "source": [
    "result = client.execute(\"SELECT * FROM embeddings\")\n",
    "result_df = pd.DataFrame(result)\n",
    "\n",
    "result_df"
   ]
  },
  {
   "cell_type": "code",
   "execution_count": 207,
   "id": "b0a17ea6",
   "metadata": {},
   "outputs": [
    {
     "data": {
      "text/plain": [
       "[]"
      ]
     },
     "execution_count": 207,
     "metadata": {},
     "output_type": "execute_result"
    }
   ],
   "source": [
    "#client.execute(\"DROP TABLE embeddings\")"
   ]
  },
  {
   "cell_type": "code",
   "execution_count": 241,
   "id": "c4e42ff0",
   "metadata": {},
   "outputs": [
    {
     "data": {
      "text/plain": [
       "['Проводит ли Банк России операции с целью укрепить или ослабить рубль?']"
      ]
     },
     "execution_count": 241,
     "metadata": {},
     "output_type": "execute_result"
    }
   ],
   "source": [
    "sentence = [questions[2]]\n",
    "sentence"
   ]
  },
  {
   "cell_type": "code",
   "execution_count": 242,
   "id": "ece88455",
   "metadata": {},
   "outputs": [
    {
     "data": {
      "text/plain": [
       "[-0.7126147747039795, -0.6340107917785645]"
      ]
     },
     "execution_count": 242,
     "metadata": {},
     "output_type": "execute_result"
    }
   ],
   "source": [
    "embedding = model.encode(sentence)\n",
    "pca_embedding = pca.transform(embedding)\n",
    "pca_embedding = np.squeeze(pca_embedding)\n",
    "pca_embedding.tolist()"
   ]
  },
  {
   "cell_type": "code",
   "execution_count": 245,
   "id": "45477e20",
   "metadata": {},
   "outputs": [
    {
     "name": "stdout",
     "output_type": "stream",
     "text": [
      "ID: 2, Link: https://cbr.ru/oper_br/o_a/currency/, Answer:      В обычных условиях Банк России не вмешивается в курс рубля.     Банк России может проводить операции на валютном рынке:     - Для поддержания финансовой стабильности     - Для пополнения международных резервов     - В 2014 году Банк России проводил интервенции для поддержки рубля     \n"
     ]
    }
   ],
   "source": [
    "# cosineDistance or L2Distance\n",
    "# Найти n ближайших соседа\n",
    "\n",
    "query_vector = pca_embedding.tolist()\n",
    "\n",
    "results = client.execute(\"\"\"\n",
    "SELECT id, embedding, link\n",
    "FROM embeddings\n",
    "ORDER BY L2Distance(embedding, {}) ASC\n",
    "LIMIT 1\n",
    "\"\"\".format(query_vector))\n",
    "\n",
    "\n",
    "for row in results:\n",
    "    id, embedding, link = row\n",
    "    print(f\"ID: {id}, Link: {link}, Answer: {test_data['answer'][id]}\")\n"
   ]
  },
  {
   "cell_type": "code",
   "execution_count": null,
   "id": "ecd41b38",
   "metadata": {},
   "outputs": [],
   "source": []
  }
 ],
 "metadata": {
  "kernelspec": {
   "display_name": "Python 3 (ipykernel)",
   "language": "python",
   "name": "python3"
  },
  "language_info": {
   "codemirror_mode": {
    "name": "ipython",
    "version": 3
   },
   "file_extension": ".py",
   "mimetype": "text/x-python",
   "name": "python",
   "nbconvert_exporter": "python",
   "pygments_lexer": "ipython3",
   "version": "3.8.10"
  }
 },
 "nbformat": 4,
 "nbformat_minor": 5
}
